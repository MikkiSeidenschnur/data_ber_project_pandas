{
 "cells": [
  {
   "cell_type": "code",
   "execution_count": 205,
   "metadata": {},
   "outputs": [
    {
     "name": "stdout",
     "output_type": "stream",
     "text": [
      "['../data/api-download-pollution-2019Q1.csv', '../data/api-download-pollution-2019Q2.csv', '../data/api-download-pollution-2019Q3.csv', '../data/api-download-pollution-2019Q4.csv', '../data/api-download-pollution-2020.csv']\n"
     ]
    }
   ],
   "source": [
    "import pandas as pd\n",
    "import requests\n",
    "import json\n",
    "base_url = 'https://aqicn.org/data-platform/covid19/report/15408-c5ae2edd/'\n",
    "req = ['2019Q1', '2019Q2', '2019Q3', '2019Q4', '2020']\n",
    "file_names = []\n",
    "\n",
    "def api_call_csv(timestamp):\n",
    "    url = base_url + timestamp\n",
    "    response = requests.get(url)\n",
    "    file_path = \"../data/\"\n",
    "    file_name = f\"api-download-pollution-{timestamp}.csv\"\n",
    "    csv_file = open(file_path + file_name, 'wb')\n",
    "    csv_file.write(response.content)\n",
    "    csv_file.close()\n",
    "    file_names.append(file_path + file_name)\n",
    "    return file_names\n",
    "\n",
    "def file_instantiater():\n",
    "    for year in req:\n",
    "        api_call_csv(year)\n",
    "        \n",
    "file_instantiater()\n",
    "\n",
    "print(file_names)"
   ]
  },
  {
   "cell_type": "code",
   "execution_count": 206,
   "metadata": {},
   "outputs": [],
   "source": [
    "def dataframe_converter(list_of_file_names):\n",
    "    dataframe_list = []\n",
    "    for file in list_of_file_names:\n",
    "        dataframe_list.append(pd.read_csv(file, skiprows=4))\n",
    "    return dataframe_list\n",
    "\n",
    "list_of_dframes = dataframe_converter(file_names)\n",
    "\n",
    "\n",
    "        \n",
    "        # pd.read_csv(\"../data/api-download-pollution-2019Q1.csv\", skiprows=4)"
   ]
  },
  {
   "cell_type": "code",
   "execution_count": null,
   "metadata": {},
   "outputs": [],
   "source": []
  },
  {
   "cell_type": "code",
   "execution_count": 426,
   "metadata": {},
   "outputs": [],
   "source": [
    "def dataframe_cleaner(list_of_dframes):\n",
    "    #converted_columns_datetime = []\n",
    "    #for dataframe in list_of_dframes:\n",
    "    #    dataframe[[\"Date\"]] = pd.to_datetime(dataframe[\"Date\"])\n",
    "    #    print(dataframe[\"Date\"])\n",
    "    #list_of_dframes = Q12019, Q22019, Q32019, Q42019, Q2020\n",
    "    list_of_dframes[0][\"Date\"] = pd.to_datetime(list_of_dframes[0][\"Date\"])\n",
    "    list_of_dframes[1][\"Date\"] = pd.to_datetime(list_of_dframes[1][\"Date\"])\n",
    "    list_of_dframes[2][\"Date\"] = pd.to_datetime(list_of_dframes[2][\"Date\"])\n",
    "    list_of_dframes[3][\"Date\"] = pd.to_datetime(list_of_dframes[3][\"Date\"])\n",
    "    list_of_dframes[4][\"Date\"] = pd.to_datetime(list_of_dframes[4][\"Date\"])\n",
    "    return list_of_dframes\n",
    "\n",
    "list_of_dframes = dataframe_cleaner(list_of_dframes)\n",
    "\n",
    "Q12019 = list_of_dframes[0][[\"Date\", \"Country\", \"City\", \"Specie\", \"median\"]]\n",
    "Q22019 = list_of_dframes[1][[\"Date\", \"Country\", \"City\", \"Specie\", \"median\"]]\n",
    "Q32019 = list_of_dframes[2][[\"Date\", \"Country\", \"City\", \"Specie\", \"median\"]]\n",
    "Q42019 = list_of_dframes[3][[\"Date\", \"Country\", \"City\", \"Specie\", \"median\"]]\n",
    "Q2020 = list_of_dframes[4][[\"Date\", \"Country\", \"City\", \"Specie\", \"median\"]]\n",
    "    \n",
    "\n",
    "#Q12019[\"Date\"] = pd.to_datetime(Q12019[\"Date\"])"
   ]
  },
  {
   "cell_type": "code",
   "execution_count": 428,
   "metadata": {},
   "outputs": [
    {
     "data": {
      "text/plain": [
       "Date       datetime64[ns]\n",
       "Country            object\n",
       "City               object\n",
       "Specie             object\n",
       "median            float64\n",
       "dtype: object"
      ]
     },
     "execution_count": 428,
     "metadata": {},
     "output_type": "execute_result"
    }
   ],
   "source": [
    "Q22019.dtypes"
   ]
  },
  {
   "cell_type": "code",
   "execution_count": 419,
   "metadata": {},
   "outputs": [
    {
     "data": {
      "text/plain": [
       "Date       datetime64[ns]\n",
       "Country            object\n",
       "City               object\n",
       "Specie             object\n",
       "median            float64\n",
       "dtype: object"
      ]
     },
     "execution_count": 419,
     "metadata": {},
     "output_type": "execute_result"
    }
   ],
   "source": [
    "Q12019.dtypes"
   ]
  },
  {
   "cell_type": "code",
   "execution_count": 429,
   "metadata": {},
   "outputs": [
    {
     "data": {
      "text/html": [
       "<div>\n",
       "<style scoped>\n",
       "    .dataframe tbody tr th:only-of-type {\n",
       "        vertical-align: middle;\n",
       "    }\n",
       "\n",
       "    .dataframe tbody tr th {\n",
       "        vertical-align: top;\n",
       "    }\n",
       "\n",
       "    .dataframe thead th {\n",
       "        text-align: right;\n",
       "    }\n",
       "</style>\n",
       "<table border=\"1\" class=\"dataframe\">\n",
       "  <thead>\n",
       "    <tr style=\"text-align: right;\">\n",
       "      <th></th>\n",
       "      <th>Date</th>\n",
       "      <th>Country</th>\n",
       "      <th>City</th>\n",
       "      <th>Specie</th>\n",
       "      <th>median</th>\n",
       "    </tr>\n",
       "  </thead>\n",
       "  <tbody>\n",
       "    <tr>\n",
       "      <th>0</th>\n",
       "      <td>2019-01-16</td>\n",
       "      <td>AE</td>\n",
       "      <td>Abu Dhabi</td>\n",
       "      <td>pm10</td>\n",
       "      <td>97.0</td>\n",
       "    </tr>\n",
       "    <tr>\n",
       "      <th>1</th>\n",
       "      <td>2019-01-22</td>\n",
       "      <td>AE</td>\n",
       "      <td>Abu Dhabi</td>\n",
       "      <td>pm10</td>\n",
       "      <td>55.0</td>\n",
       "    </tr>\n",
       "    <tr>\n",
       "      <th>2</th>\n",
       "      <td>2019-01-26</td>\n",
       "      <td>AE</td>\n",
       "      <td>Abu Dhabi</td>\n",
       "      <td>pm10</td>\n",
       "      <td>160.0</td>\n",
       "    </tr>\n",
       "    <tr>\n",
       "      <th>3</th>\n",
       "      <td>2019-01-07</td>\n",
       "      <td>AE</td>\n",
       "      <td>Abu Dhabi</td>\n",
       "      <td>pm10</td>\n",
       "      <td>72.0</td>\n",
       "    </tr>\n",
       "    <tr>\n",
       "      <th>4</th>\n",
       "      <td>2019-01-10</td>\n",
       "      <td>AE</td>\n",
       "      <td>Abu Dhabi</td>\n",
       "      <td>pm10</td>\n",
       "      <td>87.0</td>\n",
       "    </tr>\n",
       "    <tr>\n",
       "      <th>...</th>\n",
       "      <td>...</td>\n",
       "      <td>...</td>\n",
       "      <td>...</td>\n",
       "      <td>...</td>\n",
       "      <td>...</td>\n",
       "    </tr>\n",
       "    <tr>\n",
       "      <th>491156</th>\n",
       "      <td>2019-02-22</td>\n",
       "      <td>RS</td>\n",
       "      <td>Belgrade</td>\n",
       "      <td>o3</td>\n",
       "      <td>10.5</td>\n",
       "    </tr>\n",
       "    <tr>\n",
       "      <th>491157</th>\n",
       "      <td>2019-03-15</td>\n",
       "      <td>RS</td>\n",
       "      <td>Belgrade</td>\n",
       "      <td>o3</td>\n",
       "      <td>16.8</td>\n",
       "    </tr>\n",
       "    <tr>\n",
       "      <th>491158</th>\n",
       "      <td>2018-12-31</td>\n",
       "      <td>RS</td>\n",
       "      <td>Belgrade</td>\n",
       "      <td>o3</td>\n",
       "      <td>6.6</td>\n",
       "    </tr>\n",
       "    <tr>\n",
       "      <th>491159</th>\n",
       "      <td>2019-03-11</td>\n",
       "      <td>RS</td>\n",
       "      <td>Belgrade</td>\n",
       "      <td>o3</td>\n",
       "      <td>19.1</td>\n",
       "    </tr>\n",
       "    <tr>\n",
       "      <th>491160</th>\n",
       "      <td>2019-03-29</td>\n",
       "      <td>RS</td>\n",
       "      <td>Belgrade</td>\n",
       "      <td>o3</td>\n",
       "      <td>11.5</td>\n",
       "    </tr>\n",
       "  </tbody>\n",
       "</table>\n",
       "<p>491161 rows × 5 columns</p>\n",
       "</div>"
      ],
      "text/plain": [
       "             Date Country       City Specie  median\n",
       "0      2019-01-16      AE  Abu Dhabi   pm10    97.0\n",
       "1      2019-01-22      AE  Abu Dhabi   pm10    55.0\n",
       "2      2019-01-26      AE  Abu Dhabi   pm10   160.0\n",
       "3      2019-01-07      AE  Abu Dhabi   pm10    72.0\n",
       "4      2019-01-10      AE  Abu Dhabi   pm10    87.0\n",
       "...           ...     ...        ...    ...     ...\n",
       "491156 2019-02-22      RS   Belgrade     o3    10.5\n",
       "491157 2019-03-15      RS   Belgrade     o3    16.8\n",
       "491158 2018-12-31      RS   Belgrade     o3     6.6\n",
       "491159 2019-03-11      RS   Belgrade     o3    19.1\n",
       "491160 2019-03-29      RS   Belgrade     o3    11.5\n",
       "\n",
       "[491161 rows x 5 columns]"
      ]
     },
     "execution_count": 429,
     "metadata": {},
     "output_type": "execute_result"
    }
   ],
   "source": [
    "Q12019"
   ]
  },
  {
   "cell_type": "code",
   "execution_count": 430,
   "metadata": {},
   "outputs": [],
   "source": [
    "pollution_types = [\"o3\", \"pm25\", \"pm10\", \"no2\"]\n",
    "\n",
    "def get_pollution_data(city, time_period):\n",
    "    list_of_dframes_pol = []\n",
    "    for pollution in pollution_types:\n",
    "        time_period_pol = time_period.loc[time_period[\"City\"] == city].reset_index(drop=True)\n",
    "        time_period_pol = time_period_pol.loc[time_period_pol[\"Specie\"] == f\"{pollution}\"].sort_values(\"Date\").reset_index(drop=True).rename(columns={\"median\": f\"{pollution}\"})\n",
    "        list_of_dframes_pol.append(time_period_pol)\n",
    "    return list_of_dframes_pol\n",
    "    \n"
   ]
  },
  {
   "cell_type": "code",
   "execution_count": 431,
   "metadata": {},
   "outputs": [],
   "source": [
    "def pollution_combiner(dataframes, columns):\n",
    "    pollution_types = [\"o3\", \"pm25\", \"pm10\", \"no2\"]\n",
    "    dataframe = {}\n",
    "    for pollution in range(len(dataframes)):\n",
    "        if pollution == 0:\n",
    "            dataframe = dataframes[0].join(dataframes[1][[pollution_types[1]]])\n",
    "        if pollution > 1:\n",
    "            dataframe = dataframe.join(dataframes[pollution][[pollution_types[pollution]]])\n",
    "    dataframe = dataframe[columns]\n",
    "    return dataframe\n"
   ]
  },
  {
   "cell_type": "code",
   "execution_count": 432,
   "metadata": {},
   "outputs": [],
   "source": [
    "columns = [\"Date\", \"o3\", \"pm25\", \"pm10\", \"no2\"]\n",
    "\n",
    "Q12019_frankfurt = get_pollution_data(\"Wiesbaden\", Q12019)\n",
    "Q22019_frankfurt = get_pollution_data(\"Wiesbaden\", Q22019)\n",
    "Q32019_frankfurt = get_pollution_data(\"Wiesbaden\", Q32019)\n",
    "Q42019_frankfurt = get_pollution_data(\"Wiesbaden\", Q42019)\n",
    "Q2020_frankfurt = get_pollution_data(\"Wiesbaden\", Q2020)\n",
    "\n",
    "Q12019_frankfurt = pollution_combiner(Q12019_frankfurt, columns)\n",
    "Q22019_frankfurt = pollution_combiner(Q22019_frankfurt, columns)\n",
    "Q32019_frankfurt = pollution_combiner(Q32019_frankfurt, columns)\n",
    "Q42019_frankfurt = pollution_combiner(Q42019_frankfurt, columns)\n",
    "Q2020_frankfurt = pollution_combiner(Q2020_frankfurt, columns)"
   ]
  },
  {
   "cell_type": "code",
   "execution_count": 435,
   "metadata": {},
   "outputs": [],
   "source": [
    "dataframe = Q12019_frankfurt.append(Q22019_frankfurt).append(Q32019_frankfurt).append(Q42019_frankfurt).append(Q2020_frankfurt).reset_index(drop=True)"
   ]
  },
  {
   "cell_type": "code",
   "execution_count": 447,
   "metadata": {},
   "outputs": [],
   "source": [
    "def dataframe_for_timeperiod(dataframe, time_period_min, time_period_max):\n",
    "    dataframe_time_period = dataframe.loc[dataframe[\"Date\"] >= time_period_min].reset_index(drop=True)\n",
    "    dataframe_time_period = dataframe_time_period.loc[dataframe_time_period[\"Date\"] <= time_period_max].reset_index(drop=True)\n",
    "    return dataframe_time_period\n",
    "\n",
    "\n",
    "dataframe_for_timeperiod = dataframe_for_timeperiod(dataframe, \"2019-06-16\", \"2020-06-16\")"
   ]
  },
  {
   "cell_type": "code",
   "execution_count": 448,
   "metadata": {},
   "outputs": [],
   "source": [
    "dataframe_for_timeperiod.to_json(\"../data/clean_pollutiondata.json\")"
   ]
  },
  {
   "cell_type": "code",
   "execution_count": null,
   "metadata": {},
   "outputs": [],
   "source": []
  }
 ],
 "metadata": {
  "kernelspec": {
   "display_name": "Python 3",
   "language": "python",
   "name": "python3"
  },
  "language_info": {
   "codemirror_mode": {
    "name": "ipython",
    "version": 3
   },
   "file_extension": ".py",
   "mimetype": "text/x-python",
   "name": "python",
   "nbconvert_exporter": "python",
   "pygments_lexer": "ipython3",
   "version": "3.8.3"
  }
 },
 "nbformat": 4,
 "nbformat_minor": 4
}
