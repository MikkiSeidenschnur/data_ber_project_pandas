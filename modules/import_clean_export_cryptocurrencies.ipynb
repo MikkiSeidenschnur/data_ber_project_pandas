{
 "cells": [
  {
   "cell_type": "markdown",
   "metadata": {},
   "source": [
    "## Importing cryptocurrency vs real currency comparion (API)\n",
    "## Bitcoin vs EUR\n",
    "\n",
    "- Use https://www.coingecko.com/en/api to import Bitcoin vs EUR from 16-06-2019 to 16-16-2020\n",
    "- Convert results to percentages so they can be plotted against other currency combinations"
   ]
  },
  {
   "cell_type": "code",
   "execution_count": 1,
   "metadata": {},
   "outputs": [],
   "source": [
    "import requests\n",
    "import pandas as pd\n",
    "import json"
   ]
  },
  {
   "cell_type": "code",
   "execution_count": 2,
   "metadata": {},
   "outputs": [],
   "source": [
    "# Defining coingecko API url with variables for cryptocurrency and real world currency\n",
    "\n",
    "def get_api(cryp_currency, real_currency):\n",
    "    base = 'https://api.coingecko.com/api/v3/'\n",
    "    url = ''.join(base + 'coins/' + cryp_currency + '/market_chart/range?vs_currency=' + real_currency + '&from=1560643200&to=1592265600')\n",
    "    \n",
    "    return url\n",
    "\n",
    "api_call = get_api('bitcoin', 'eur')\n"
   ]
  },
  {
   "cell_type": "code",
   "execution_count": 3,
   "metadata": {},
   "outputs": [],
   "source": [
    "# Importing data\n",
    "\n",
    "def to_json_format(api):\n",
    "    result = requests.get(api)\n",
    "    json_data = result.json()\n",
    "    \n",
    "    return json_data\n",
    "\n",
    "json_obj = to_json_format(api_call)\n"
   ]
  },
  {
   "cell_type": "code",
   "execution_count": 4,
   "metadata": {},
   "outputs": [
    {
     "name": "stdout",
     "output_type": "stream",
     "text": [
      "<class 'pandas.core.frame.DataFrame'>\n",
      "RangeIndex: 367 entries, 0 to 366\n",
      "Data columns (total 2 columns):\n",
      " #   Column  Non-Null Count  Dtype  \n",
      "---  ------  --------------  -----  \n",
      " 0   date    367 non-null    int64  \n",
      " 1   price   367 non-null    float64\n",
      "dtypes: float64(1), int64(1)\n",
      "memory usage: 5.9 KB\n"
     ]
    }
   ],
   "source": [
    "# Creating dataframe\n",
    "\n",
    "df = pd.DataFrame(json_obj['prices'], columns=['date', 'price'])\n",
    "df.info()"
   ]
  },
  {
   "cell_type": "code",
   "execution_count": 5,
   "metadata": {},
   "outputs": [
    {
     "data": {
      "text/html": [
       "<div>\n",
       "<style scoped>\n",
       "    .dataframe tbody tr th:only-of-type {\n",
       "        vertical-align: middle;\n",
       "    }\n",
       "\n",
       "    .dataframe tbody tr th {\n",
       "        vertical-align: top;\n",
       "    }\n",
       "\n",
       "    .dataframe thead th {\n",
       "        text-align: right;\n",
       "    }\n",
       "</style>\n",
       "<table border=\"1\" class=\"dataframe\">\n",
       "  <thead>\n",
       "    <tr style=\"text-align: right;\">\n",
       "      <th></th>\n",
       "      <th>date</th>\n",
       "      <th>price</th>\n",
       "    </tr>\n",
       "  </thead>\n",
       "  <tbody>\n",
       "    <tr>\n",
       "      <th>0</th>\n",
       "      <td>2019-06-16</td>\n",
       "      <td>7853.059952</td>\n",
       "    </tr>\n",
       "    <tr>\n",
       "      <th>1</th>\n",
       "      <td>2019-06-17</td>\n",
       "      <td>8006.856370</td>\n",
       "    </tr>\n",
       "    <tr>\n",
       "      <th>2</th>\n",
       "      <td>2019-06-18</td>\n",
       "      <td>8298.389613</td>\n",
       "    </tr>\n",
       "    <tr>\n",
       "      <th>3</th>\n",
       "      <td>2019-06-19</td>\n",
       "      <td>8121.834445</td>\n",
       "    </tr>\n",
       "    <tr>\n",
       "      <th>4</th>\n",
       "      <td>2019-06-20</td>\n",
       "      <td>8264.077225</td>\n",
       "    </tr>\n",
       "    <tr>\n",
       "      <th>...</th>\n",
       "      <td>...</td>\n",
       "      <td>...</td>\n",
       "    </tr>\n",
       "    <tr>\n",
       "      <th>362</th>\n",
       "      <td>2020-06-12</td>\n",
       "      <td>8258.589886</td>\n",
       "    </tr>\n",
       "    <tr>\n",
       "      <th>363</th>\n",
       "      <td>2020-06-13</td>\n",
       "      <td>8413.320493</td>\n",
       "    </tr>\n",
       "    <tr>\n",
       "      <th>364</th>\n",
       "      <td>2020-06-14</td>\n",
       "      <td>8413.267326</td>\n",
       "    </tr>\n",
       "    <tr>\n",
       "      <th>365</th>\n",
       "      <td>2020-06-15</td>\n",
       "      <td>8304.428332</td>\n",
       "    </tr>\n",
       "    <tr>\n",
       "      <th>366</th>\n",
       "      <td>2020-06-16</td>\n",
       "      <td>8321.983174</td>\n",
       "    </tr>\n",
       "  </tbody>\n",
       "</table>\n",
       "<p>367 rows × 2 columns</p>\n",
       "</div>"
      ],
      "text/plain": [
       "          date        price\n",
       "0   2019-06-16  7853.059952\n",
       "1   2019-06-17  8006.856370\n",
       "2   2019-06-18  8298.389613\n",
       "3   2019-06-19  8121.834445\n",
       "4   2019-06-20  8264.077225\n",
       "..         ...          ...\n",
       "362 2020-06-12  8258.589886\n",
       "363 2020-06-13  8413.320493\n",
       "364 2020-06-14  8413.267326\n",
       "365 2020-06-15  8304.428332\n",
       "366 2020-06-16  8321.983174\n",
       "\n",
       "[367 rows x 2 columns]"
      ]
     },
     "execution_count": 5,
     "metadata": {},
     "output_type": "execute_result"
    }
   ],
   "source": [
    "## Converting 'time' column to dtype timestamp\n",
    "\n",
    "df['date'] = pd.to_datetime(df['date'], unit='ms')\n",
    "df"
   ]
  },
  {
   "cell_type": "markdown",
   "metadata": {},
   "source": [
    "## Creating function to input cryptocurrency and real_world currency and output dataframe of market values for the timeframe 16-06-2019 to 16-06-2020"
   ]
  },
  {
   "cell_type": "code",
   "execution_count": 6,
   "metadata": {},
   "outputs": [
    {
     "data": {
      "text/html": [
       "<div>\n",
       "<style scoped>\n",
       "    .dataframe tbody tr th:only-of-type {\n",
       "        vertical-align: middle;\n",
       "    }\n",
       "\n",
       "    .dataframe tbody tr th {\n",
       "        vertical-align: top;\n",
       "    }\n",
       "\n",
       "    .dataframe thead th {\n",
       "        text-align: right;\n",
       "    }\n",
       "</style>\n",
       "<table border=\"1\" class=\"dataframe\">\n",
       "  <thead>\n",
       "    <tr style=\"text-align: right;\">\n",
       "      <th></th>\n",
       "      <th>date</th>\n",
       "      <th>eur</th>\n",
       "    </tr>\n",
       "  </thead>\n",
       "  <tbody>\n",
       "    <tr>\n",
       "      <th>0</th>\n",
       "      <td>2019-06-16</td>\n",
       "      <td>7853.059952</td>\n",
       "    </tr>\n",
       "    <tr>\n",
       "      <th>1</th>\n",
       "      <td>2019-06-17</td>\n",
       "      <td>8006.856370</td>\n",
       "    </tr>\n",
       "    <tr>\n",
       "      <th>2</th>\n",
       "      <td>2019-06-18</td>\n",
       "      <td>8298.389613</td>\n",
       "    </tr>\n",
       "    <tr>\n",
       "      <th>3</th>\n",
       "      <td>2019-06-19</td>\n",
       "      <td>8121.834445</td>\n",
       "    </tr>\n",
       "    <tr>\n",
       "      <th>4</th>\n",
       "      <td>2019-06-20</td>\n",
       "      <td>8264.077225</td>\n",
       "    </tr>\n",
       "  </tbody>\n",
       "</table>\n",
       "</div>"
      ],
      "text/plain": [
       "        date          eur\n",
       "0 2019-06-16  7853.059952\n",
       "1 2019-06-17  8006.856370\n",
       "2 2019-06-18  8298.389613\n",
       "3 2019-06-19  8121.834445\n",
       "4 2019-06-20  8264.077225"
      ]
     },
     "execution_count": 6,
     "metadata": {},
     "output_type": "execute_result"
    }
   ],
   "source": [
    "def crypto_vs_real(crypto_currency, real_currency):\n",
    "    api_call = get_api(crypto_currency, real_currency)\n",
    "    json_obj = to_json_format(api_call)\n",
    "    \n",
    "    df = pd.DataFrame(json_obj['prices'], columns=['date', real_currency])\n",
    "    df['date'] = pd.to_datetime(df['date'], unit='ms')\n",
    "    \n",
    "    return df\n",
    "    \n",
    "df_bc_eur = crypto_vs_real('bitcoin', 'eur')\n",
    "df_bc_eur.head()"
   ]
  },
  {
   "cell_type": "code",
   "execution_count": 7,
   "metadata": {},
   "outputs": [
    {
     "data": {
      "text/html": [
       "<div>\n",
       "<style scoped>\n",
       "    .dataframe tbody tr th:only-of-type {\n",
       "        vertical-align: middle;\n",
       "    }\n",
       "\n",
       "    .dataframe tbody tr th {\n",
       "        vertical-align: top;\n",
       "    }\n",
       "\n",
       "    .dataframe thead th {\n",
       "        text-align: right;\n",
       "    }\n",
       "</style>\n",
       "<table border=\"1\" class=\"dataframe\">\n",
       "  <thead>\n",
       "    <tr style=\"text-align: right;\">\n",
       "      <th></th>\n",
       "      <th>date</th>\n",
       "      <th>usd</th>\n",
       "    </tr>\n",
       "  </thead>\n",
       "  <tbody>\n",
       "    <tr>\n",
       "      <th>0</th>\n",
       "      <td>2019-06-16</td>\n",
       "      <td>8818.609507</td>\n",
       "    </tr>\n",
       "    <tr>\n",
       "      <th>1</th>\n",
       "      <td>2019-06-17</td>\n",
       "      <td>8978.772588</td>\n",
       "    </tr>\n",
       "    <tr>\n",
       "      <th>2</th>\n",
       "      <td>2019-06-18</td>\n",
       "      <td>9312.868295</td>\n",
       "    </tr>\n",
       "    <tr>\n",
       "      <th>3</th>\n",
       "      <td>2019-06-19</td>\n",
       "      <td>9094.021746</td>\n",
       "    </tr>\n",
       "    <tr>\n",
       "      <th>4</th>\n",
       "      <td>2019-06-20</td>\n",
       "      <td>9285.928674</td>\n",
       "    </tr>\n",
       "  </tbody>\n",
       "</table>\n",
       "</div>"
      ],
      "text/plain": [
       "        date          usd\n",
       "0 2019-06-16  8818.609507\n",
       "1 2019-06-17  8978.772588\n",
       "2 2019-06-18  9312.868295\n",
       "3 2019-06-19  9094.021746\n",
       "4 2019-06-20  9285.928674"
      ]
     },
     "execution_count": 7,
     "metadata": {},
     "output_type": "execute_result"
    }
   ],
   "source": [
    "# Getting data for bitcoin vs USD and CNY\n",
    "\n",
    "df_bc_usd = crypto_vs_real('bitcoin', 'usd')\n",
    "df_bc_usd.head()"
   ]
  },
  {
   "cell_type": "code",
   "execution_count": 8,
   "metadata": {},
   "outputs": [
    {
     "data": {
      "text/html": [
       "<div>\n",
       "<style scoped>\n",
       "    .dataframe tbody tr th:only-of-type {\n",
       "        vertical-align: middle;\n",
       "    }\n",
       "\n",
       "    .dataframe tbody tr th {\n",
       "        vertical-align: top;\n",
       "    }\n",
       "\n",
       "    .dataframe thead th {\n",
       "        text-align: right;\n",
       "    }\n",
       "</style>\n",
       "<table border=\"1\" class=\"dataframe\">\n",
       "  <thead>\n",
       "    <tr style=\"text-align: right;\">\n",
       "      <th></th>\n",
       "      <th>date</th>\n",
       "      <th>cny</th>\n",
       "    </tr>\n",
       "  </thead>\n",
       "  <tbody>\n",
       "    <tr>\n",
       "      <th>0</th>\n",
       "      <td>2019-06-16</td>\n",
       "      <td>61072.398279</td>\n",
       "    </tr>\n",
       "    <tr>\n",
       "      <th>1</th>\n",
       "      <td>2019-06-17</td>\n",
       "      <td>62183.333561</td>\n",
       "    </tr>\n",
       "    <tr>\n",
       "      <th>2</th>\n",
       "      <td>2019-06-18</td>\n",
       "      <td>64499.063236</td>\n",
       "    </tr>\n",
       "    <tr>\n",
       "      <th>3</th>\n",
       "      <td>2019-06-19</td>\n",
       "      <td>62778.760320</td>\n",
       "    </tr>\n",
       "    <tr>\n",
       "      <th>4</th>\n",
       "      <td>2019-06-20</td>\n",
       "      <td>64106.337196</td>\n",
       "    </tr>\n",
       "  </tbody>\n",
       "</table>\n",
       "</div>"
      ],
      "text/plain": [
       "        date           cny\n",
       "0 2019-06-16  61072.398279\n",
       "1 2019-06-17  62183.333561\n",
       "2 2019-06-18  64499.063236\n",
       "3 2019-06-19  62778.760320\n",
       "4 2019-06-20  64106.337196"
      ]
     },
     "execution_count": 8,
     "metadata": {},
     "output_type": "execute_result"
    }
   ],
   "source": [
    "df_bc_cny = crypto_vs_real('bitcoin', 'cny')\n",
    "df_bc_cny.head()"
   ]
  },
  {
   "cell_type": "code",
   "execution_count": 10,
   "metadata": {},
   "outputs": [
    {
     "data": {
      "text/html": [
       "<div>\n",
       "<style scoped>\n",
       "    .dataframe tbody tr th:only-of-type {\n",
       "        vertical-align: middle;\n",
       "    }\n",
       "\n",
       "    .dataframe tbody tr th {\n",
       "        vertical-align: top;\n",
       "    }\n",
       "\n",
       "    .dataframe thead th {\n",
       "        text-align: right;\n",
       "    }\n",
       "</style>\n",
       "<table border=\"1\" class=\"dataframe\">\n",
       "  <thead>\n",
       "    <tr style=\"text-align: right;\">\n",
       "      <th></th>\n",
       "      <th>date</th>\n",
       "      <th>eur</th>\n",
       "      <th>usd</th>\n",
       "      <th>cny</th>\n",
       "    </tr>\n",
       "  </thead>\n",
       "  <tbody>\n",
       "    <tr>\n",
       "      <th>0</th>\n",
       "      <td>2019-06-16</td>\n",
       "      <td>7853.059952</td>\n",
       "      <td>8818.609507</td>\n",
       "      <td>61072.398279</td>\n",
       "    </tr>\n",
       "    <tr>\n",
       "      <th>1</th>\n",
       "      <td>2019-06-17</td>\n",
       "      <td>8006.856370</td>\n",
       "      <td>8978.772588</td>\n",
       "      <td>62183.333561</td>\n",
       "    </tr>\n",
       "    <tr>\n",
       "      <th>2</th>\n",
       "      <td>2019-06-18</td>\n",
       "      <td>8298.389613</td>\n",
       "      <td>9312.868295</td>\n",
       "      <td>64499.063236</td>\n",
       "    </tr>\n",
       "    <tr>\n",
       "      <th>3</th>\n",
       "      <td>2019-06-19</td>\n",
       "      <td>8121.834445</td>\n",
       "      <td>9094.021746</td>\n",
       "      <td>62778.760320</td>\n",
       "    </tr>\n",
       "    <tr>\n",
       "      <th>4</th>\n",
       "      <td>2019-06-20</td>\n",
       "      <td>8264.077225</td>\n",
       "      <td>9285.928674</td>\n",
       "      <td>64106.337196</td>\n",
       "    </tr>\n",
       "  </tbody>\n",
       "</table>\n",
       "</div>"
      ],
      "text/plain": [
       "        date          eur          usd           cny\n",
       "0 2019-06-16  7853.059952  8818.609507  61072.398279\n",
       "1 2019-06-17  8006.856370  8978.772588  62183.333561\n",
       "2 2019-06-18  8298.389613  9312.868295  64499.063236\n",
       "3 2019-06-19  8121.834445  9094.021746  62778.760320\n",
       "4 2019-06-20  8264.077225  9285.928674  64106.337196"
      ]
     },
     "execution_count": 10,
     "metadata": {},
     "output_type": "execute_result"
    }
   ],
   "source": [
    "# Merging dataframes for EUR, USD and CNY\n",
    "\n",
    "df_compare_bc = df_bc_eur.merge(df_bc_usd).merge(df_bc_cny)\n",
    "\n",
    "df_compare_bc.head()"
   ]
  },
  {
   "cell_type": "markdown",
   "metadata": {},
   "source": [
    "## Visualizing the data"
   ]
  },
  {
   "cell_type": "code",
   "execution_count": 11,
   "metadata": {},
   "outputs": [],
   "source": [
    "# Creating Plot\n",
    "\n",
    "import matplotlib.pyplot as plt\n",
    "%matplotlib inline\n",
    "\n",
    "df_compare_bc.set_index('date', inplace=True)\n"
   ]
  },
  {
   "cell_type": "code",
   "execution_count": 13,
   "metadata": {},
   "outputs": [
    {
     "data": {
      "text/html": [
       "<div>\n",
       "<style scoped>\n",
       "    .dataframe tbody tr th:only-of-type {\n",
       "        vertical-align: middle;\n",
       "    }\n",
       "\n",
       "    .dataframe tbody tr th {\n",
       "        vertical-align: top;\n",
       "    }\n",
       "\n",
       "    .dataframe thead th {\n",
       "        text-align: right;\n",
       "    }\n",
       "</style>\n",
       "<table border=\"1\" class=\"dataframe\">\n",
       "  <thead>\n",
       "    <tr style=\"text-align: right;\">\n",
       "      <th></th>\n",
       "      <th>eur</th>\n",
       "      <th>usd</th>\n",
       "      <th>cny</th>\n",
       "    </tr>\n",
       "    <tr>\n",
       "      <th>date</th>\n",
       "      <th></th>\n",
       "      <th></th>\n",
       "      <th></th>\n",
       "    </tr>\n",
       "  </thead>\n",
       "  <tbody>\n",
       "    <tr>\n",
       "      <th>2019-06-16</th>\n",
       "      <td>7853.059952</td>\n",
       "      <td>8818.609507</td>\n",
       "      <td>61072.398279</td>\n",
       "    </tr>\n",
       "    <tr>\n",
       "      <th>2019-06-17</th>\n",
       "      <td>8006.856370</td>\n",
       "      <td>8978.772588</td>\n",
       "      <td>62183.333561</td>\n",
       "    </tr>\n",
       "    <tr>\n",
       "      <th>2019-06-18</th>\n",
       "      <td>8298.389613</td>\n",
       "      <td>9312.868295</td>\n",
       "      <td>64499.063236</td>\n",
       "    </tr>\n",
       "    <tr>\n",
       "      <th>2019-06-19</th>\n",
       "      <td>8121.834445</td>\n",
       "      <td>9094.021746</td>\n",
       "      <td>62778.760320</td>\n",
       "    </tr>\n",
       "    <tr>\n",
       "      <th>2019-06-20</th>\n",
       "      <td>8264.077225</td>\n",
       "      <td>9285.928674</td>\n",
       "      <td>64106.337196</td>\n",
       "    </tr>\n",
       "  </tbody>\n",
       "</table>\n",
       "</div>"
      ],
      "text/plain": [
       "                    eur          usd           cny\n",
       "date                                              \n",
       "2019-06-16  7853.059952  8818.609507  61072.398279\n",
       "2019-06-17  8006.856370  8978.772588  62183.333561\n",
       "2019-06-18  8298.389613  9312.868295  64499.063236\n",
       "2019-06-19  8121.834445  9094.021746  62778.760320\n",
       "2019-06-20  8264.077225  9285.928674  64106.337196"
      ]
     },
     "execution_count": 13,
     "metadata": {},
     "output_type": "execute_result"
    }
   ],
   "source": [
    "df_compare_bc.head()"
   ]
  },
  {
   "cell_type": "code",
   "execution_count": 14,
   "metadata": {},
   "outputs": [
    {
     "data": {
      "text/plain": [
       "Text(0, 0.5, 'Value of Bitcoin')"
      ]
     },
     "execution_count": 14,
     "metadata": {},
     "output_type": "execute_result"
    },
    {
     "data": {
      "image/png": "[encoded data removed]",
      "text/plain": [
       "<Figure size 864x576 with 1 Axes>"
      ]
     },
     "metadata": {
      "needs_background": "light"
     },
     "output_type": "display_data"
    }
   ],
   "source": [
    "df_compare_bc.plot(figsize=(12,8))\n",
    "\n",
    "plt.title(label='Exchange rate of Bitcoin')\n",
    "plt.ylabel('Value of Bitcoin')\n",
    "\n"
   ]
  },
  {
   "cell_type": "markdown",
   "metadata": {},
   "source": [
    "## The above graph is misleading because of the exchange rates between these currencies\n",
    "## So we'll normalize by converting everything to Euro values"
   ]
  },
  {
   "cell_type": "code",
   "execution_count": 15,
   "metadata": {},
   "outputs": [],
   "source": [
    "# Using https://exchangeratesapi.io/ API to convert currencies to EURO by historic exchange rates\n",
    "\n",
    "api_exchange_rate = 'https://api.exchangeratesapi.io/history?start_at=2019-06-16&end_at=2020-06-16&symbols=USD,CNY'\n",
    "\n",
    "json_dict = to_json_format(api_exchange_rate)\n"
   ]
  },
  {
   "cell_type": "code",
   "execution_count": 16,
   "metadata": {},
   "outputs": [],
   "source": [
    "# Converting dict of dicts to list of dicts\n",
    "\n",
    "def dicts_to_json(j_dict):\n",
    "    dict_key = next(iter(j_dict))\n",
    "    json_list = json_dict[dict_key]\n",
    "    return json_list \n",
    "\n",
    "exchange_json = dicts_to_json(json_dict)\n"
   ]
  },
  {
   "cell_type": "code",
   "execution_count": 20,
   "metadata": {},
   "outputs": [
    {
     "data": {
      "text/html": [
       "<div>\n",
       "<style scoped>\n",
       "    .dataframe tbody tr th:only-of-type {\n",
       "        vertical-align: middle;\n",
       "    }\n",
       "\n",
       "    .dataframe tbody tr th {\n",
       "        vertical-align: top;\n",
       "    }\n",
       "\n",
       "    .dataframe thead th {\n",
       "        text-align: right;\n",
       "    }\n",
       "</style>\n",
       "<table border=\"1\" class=\"dataframe\">\n",
       "  <thead>\n",
       "    <tr style=\"text-align: right;\">\n",
       "      <th></th>\n",
       "      <th>index</th>\n",
       "      <th>CNY</th>\n",
       "      <th>USD</th>\n",
       "    </tr>\n",
       "  </thead>\n",
       "  <tbody>\n",
       "    <tr>\n",
       "      <th>0</th>\n",
       "      <td>2019-06-28</td>\n",
       "      <td>7.8185</td>\n",
       "      <td>1.1380</td>\n",
       "    </tr>\n",
       "    <tr>\n",
       "      <th>1</th>\n",
       "      <td>2019-07-15</td>\n",
       "      <td>7.7484</td>\n",
       "      <td>1.1269</td>\n",
       "    </tr>\n",
       "    <tr>\n",
       "      <th>2</th>\n",
       "      <td>2020-06-04</td>\n",
       "      <td>8.0066</td>\n",
       "      <td>1.1250</td>\n",
       "    </tr>\n",
       "    <tr>\n",
       "      <th>3</th>\n",
       "      <td>2019-09-23</td>\n",
       "      <td>7.8279</td>\n",
       "      <td>1.0985</td>\n",
       "    </tr>\n",
       "    <tr>\n",
       "      <th>4</th>\n",
       "      <td>2019-07-04</td>\n",
       "      <td>7.7567</td>\n",
       "      <td>1.1288</td>\n",
       "    </tr>\n",
       "  </tbody>\n",
       "</table>\n",
       "</div>"
      ],
      "text/plain": [
       "        index     CNY     USD\n",
       "0  2019-06-28  7.8185  1.1380\n",
       "1  2019-07-15  7.7484  1.1269\n",
       "2  2020-06-04  8.0066  1.1250\n",
       "3  2019-09-23  7.8279  1.0985\n",
       "4  2019-07-04  7.7567  1.1288"
      ]
     },
     "execution_count": 20,
     "metadata": {},
     "output_type": "execute_result"
    }
   ],
   "source": [
    "# Changing current index to 'date' column and adding number index\n",
    "def change_df_index(json):\n",
    "    df = pd.DataFrame.from_dict(json, orient='index')\n",
    "    df = df.reset_index()\n",
    "    \n",
    "    return df\n",
    "\n",
    "df_exchange = change_df_index(exchange_json)\n",
    "\n",
    "df_exchange.head()"
   ]
  },
  {
   "cell_type": "code",
   "execution_count": 24,
   "metadata": {},
   "outputs": [
    {
     "data": {
      "text/plain": [
       "Index(['index', 'CNY', 'USD'], dtype='object')"
      ]
     },
     "execution_count": 24,
     "metadata": {},
     "output_type": "execute_result"
    }
   ],
   "source": [
    "# Renaming columns\n",
    "\n",
    "def rename_cols(df):\n",
    "    cols = df.columns\n",
    "    \n",
    "    \n",
    "    return cols\n",
    "\n",
    "rename_cols(df_exchange)\n",
    "#df_exchange.columns = ['date', 'cny_to_eur', 'usd_to_eur']\n",
    "#df_exchange.head()\n",
    "\n",
    "['%{0}%'.format(element) for element in elements]"
   ]
  },
  {
   "cell_type": "code",
   "execution_count": null,
   "metadata": {},
   "outputs": [],
   "source": [
    "# Converting 'date' column to datetime dtype\n",
    "\n",
    "df_exchange['date'] = pd.to_datetime(df_exchange['date'])\n",
    "df_exchange.dtypes"
   ]
  },
  {
   "cell_type": "code",
   "execution_count": null,
   "metadata": {},
   "outputs": [],
   "source": [
    "# Sorting values by date\n",
    "\n",
    "df_exchange = df_exchange.sort_values(by=['date'])"
   ]
  },
  {
   "cell_type": "code",
   "execution_count": null,
   "metadata": {},
   "outputs": [],
   "source": [
    "df_exchange.head()"
   ]
  },
  {
   "cell_type": "code",
   "execution_count": null,
   "metadata": {},
   "outputs": [],
   "source": [
    "# resetting indices\n",
    "\n",
    "df_exchange = df_exchange.reset_index(drop=True)\n",
    "df_exchange.head()\n"
   ]
  },
  {
   "cell_type": "markdown",
   "metadata": {},
   "source": [
    "## Now we'll merge the df_exchange with df_compare_bc\n",
    "\n",
    "- We need to pay attention to the missing dates from df_exchange, because cryptocurrencies don't close on weekends.\n",
    "- We'll fill the empty dates from the real world currencies with the last known exchange rate (i.e. Fridays' rates)\n",
    "- Then we need to mconvert the USD and CNY values according to their exchange rates "
   ]
  },
  {
   "cell_type": "code",
   "execution_count": null,
   "metadata": {},
   "outputs": [],
   "source": [
    "# Now I see I didn't need to reset the indices, but I'll leave it in to show I can do it\n",
    "# Setting date column as index to match df_compare_bc dataframe\n",
    "\n",
    "df_exchange.set_index('date', inplace=True)\n",
    "\n",
    "df_exchange.head()\n"
   ]
  },
  {
   "cell_type": "code",
   "execution_count": null,
   "metadata": {},
   "outputs": [],
   "source": [
    "df_crypto_exchange = df_compare_bc.join(df_exchange)\n",
    "df_crypto_exchange.head(20)"
   ]
  },
  {
   "cell_type": "code",
   "execution_count": null,
   "metadata": {},
   "outputs": [],
   "source": [
    "df_crypto_exchange.info()"
   ]
  },
  {
   "cell_type": "code",
   "execution_count": null,
   "metadata": {},
   "outputs": [],
   "source": [
    "# Now it's time to fill the NaN values with the preceding values. In the case of the first row, \n",
    "# we'll use the succeeding value\n",
    "\n",
    "df_crypto_exchange = df_crypto_exchange.fillna(method='ffill')\n",
    "df_crypto_exchange = df_crypto_exchange.fillna(method='bfill')\n",
    "df_crypto_exchange.head(20)"
   ]
  },
  {
   "cell_type": "code",
   "execution_count": null,
   "metadata": {},
   "outputs": [],
   "source": [
    "# Reordering columns\n",
    "cols = ['eur', 'cny', 'cny_to_eur', 'usd', 'usd_to_eur']\n",
    "\n",
    "df_crypto_exchange = df_crypto_exchange[cols]\n",
    "\n",
    "df_crypto_exchange.head()"
   ]
  },
  {
   "cell_type": "code",
   "execution_count": null,
   "metadata": {},
   "outputs": [],
   "source": [
    "# Now to convert usd and cny to euro by their exchange rates\n",
    "\n",
    "df_crypto_exchange['cny_eur_value'] = df_crypto_exchange['cny'] / df_crypto_exchange['cny_to_eur']\n",
    "\n",
    "df_crypto_exchange.head()"
   ]
  },
  {
   "cell_type": "code",
   "execution_count": null,
   "metadata": {},
   "outputs": [],
   "source": [
    "df_crypto_exchange['usd_eur_val'] = df_crypto_exchange['usd'] / df_crypto_exchange['usd_to_eur']\n",
    "\n",
    "df_crypto_exchange.head()"
   ]
  },
  {
   "cell_type": "markdown",
   "metadata": {},
   "source": [
    "## Now we can plot a more accurate graph that displays the values of Bitcoin\n",
    "## in different currencies (EUR, CNY, USD)"
   ]
  },
  {
   "cell_type": "code",
   "execution_count": null,
   "metadata": {},
   "outputs": [],
   "source": [
    "# Get the relevant columns\n",
    "\n",
    "df_to_plot = df_crypto_exchange[['eur', 'cny_eur_value', 'usd_eur_val']]\n",
    "df_to_plot.head()"
   ]
  },
  {
   "cell_type": "code",
   "execution_count": null,
   "metadata": {},
   "outputs": [],
   "source": [
    "# And now to plot a more accurate visualisation\n",
    "\n",
    "df_to_plot.plot(figsize=(12,8))\n",
    "\n",
    "plt.title(label='Exchange rate of Bitcoin')\n",
    "plt.ylabel('Value of Bitcoin')\n"
   ]
  },
  {
   "cell_type": "markdown",
   "metadata": {},
   "source": [
    "## Let's turn the currency conversion into a function"
   ]
  },
  {
   "cell_type": "code",
   "execution_count": null,
   "metadata": {},
   "outputs": [],
   "source": [
    "def get_exchange_api(currencies: list):\n",
    "    api = ''.join('https://api.exchangeratesapi.io/history?start_at=2019-06-16&end_at=2020-06-16&symbols=' + \",\".join(currencies))\n",
    "    result = requests.get(api)\n",
    "    json = result.json()\n",
    "\n",
    "    return (json)\n",
    "\n",
    "get_exchange_api(['CNY','USD'])"
   ]
  }
 ],
 "metadata": {
  "kernelspec": {
   "display_name": "Python 3",
   "language": "python",
   "name": "python3"
  },
  "language_info": {
   "codemirror_mode": {
    "name": "ipython",
    "version": 3
   },
   "file_extension": ".py",
   "mimetype": "text/x-python",
   "name": "python",
   "nbconvert_exporter": "python",
   "pygments_lexer": "ipython3",
   "version": "3.8.3"
  }
 },
 "nbformat": 4,
 "nbformat_minor": 4
}
